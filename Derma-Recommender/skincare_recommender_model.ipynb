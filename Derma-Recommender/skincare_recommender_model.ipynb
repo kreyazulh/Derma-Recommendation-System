{
 "cells": [
  {
   "cell_type": "markdown",
   "id": "d8a98f51-3fac-4821-a827-1a5df269c265",
   "metadata": {},
   "source": [
    "# "
   ]
  },
  {
   "cell_type": "code",
   "execution_count": 211,
   "id": "585953b1-a2f2-4080-8e54-4ee3c5f81932",
   "metadata": {},
   "outputs": [],
   "source": [
    "import numpy as np\n",
    "import pandas as pd\n",
    "pd.options.mode.chained_assignment = None"
   ]
  },
  {
   "cell_type": "code",
   "execution_count": 212,
   "id": "2bb19470-b13d-4130-87ee-689b3b203d47",
   "metadata": {},
   "outputs": [],
   "source": [
    "products = pd.read_csv('datasheet.csv')"
   ]
  },
  {
   "cell_type": "code",
   "execution_count": 213,
   "id": "d6ea6cb6-e354-41e1-954c-b3bc51b34f04",
   "metadata": {},
   "outputs": [
    {
     "data": {
      "text/html": [
       "<div>\n",
       "<style scoped>\n",
       "    .dataframe tbody tr th:only-of-type {\n",
       "        vertical-align: middle;\n",
       "    }\n",
       "\n",
       "    .dataframe tbody tr th {\n",
       "        vertical-align: top;\n",
       "    }\n",
       "\n",
       "    .dataframe thead th {\n",
       "        text-align: right;\n",
       "    }\n",
       "</style>\n",
       "<table border=\"1\" class=\"dataframe\">\n",
       "  <thead>\n",
       "    <tr style=\"text-align: right;\">\n",
       "      <th></th>\n",
       "      <th>brand</th>\n",
       "      <th>name</th>\n",
       "      <th>type</th>\n",
       "      <th>country</th>\n",
       "      <th>ingridients</th>\n",
       "      <th>features</th>\n",
       "      <th>afterUse</th>\n",
       "    </tr>\n",
       "  </thead>\n",
       "  <tbody>\n",
       "    <tr>\n",
       "      <th>0</th>\n",
       "      <td>The Ordinary</td>\n",
       "      <td>Glycolic Acid 7% Toning Solution</td>\n",
       "      <td>Toner</td>\n",
       "      <td>Canada</td>\n",
       "      <td>Water,Glycolic Acid,Rosa Damascena Flower Wate...</td>\n",
       "      <td>alcohol-free,silicon-free,fragrance-free,sulfa...</td>\n",
       "      <td>Good For Oily Skin,Skin Texture,Reduces Large ...</td>\n",
       "    </tr>\n",
       "  </tbody>\n",
       "</table>\n",
       "</div>"
      ],
      "text/plain": [
       "          brand                              name   type country   \n",
       "0  The Ordinary  Glycolic Acid 7% Toning Solution  Toner  Canada  \\\n",
       "\n",
       "                                         ingridients   \n",
       "0  Water,Glycolic Acid,Rosa Damascena Flower Wate...  \\\n",
       "\n",
       "                                            features   \n",
       "0  alcohol-free,silicon-free,fragrance-free,sulfa...  \\\n",
       "\n",
       "                                            afterUse  \n",
       "0  Good For Oily Skin,Skin Texture,Reduces Large ...  "
      ]
     },
     "execution_count": 213,
     "metadata": {},
     "output_type": "execute_result"
    }
   ],
   "source": [
    "products.head(1)"
   ]
  },
  {
   "cell_type": "code",
   "execution_count": 214,
   "id": "bdf9e667-602d-49ea-996a-7fc24f49a8df",
   "metadata": {},
   "outputs": [
    {
     "data": {
      "text/plain": [
       "type\n",
       "Serum                  2345\n",
       "General Moisturizer    2149\n",
       "Face Cleanser          1768\n",
       "Sunscreen              1286\n",
       "Bath & Body            1134\n",
       "Toner                   967\n",
       "Facial Treatment        861\n",
       "Face Makeup             818\n",
       "Eye Moisturizer         662\n",
       "Exfoliator              586\n",
       "Makeup Remover          564\n",
       "Wet Mask                559\n",
       "Sheet Mask              550\n",
       "Other Haircare          460\n",
       "Lip Moisturizer         421\n",
       "Eye Makeup              416\n",
       "Day Moisturizer         354\n",
       "Oil                     354\n",
       "Night Moisturizer       321\n",
       "Essence                 298\n",
       "Shampoo                 295\n",
       "Tool                    250\n",
       "Overnight Mask          198\n",
       "Lip Makeup              191\n",
       "Conditioner             184\n",
       "Fragrance               169\n",
       "Hand Care               156\n",
       "Eye Mask                121\n",
       "Makeup Applicator       115\n",
       "Nail Care               110\n",
       "Cheek Makeup            106\n",
       "Tanning                 104\n",
       "Lip Mask                 94\n",
       "Emulsion                 65\n",
       "False Eyelash             3\n",
       "Other                     1\n",
       "Name: count, dtype: int64"
      ]
     },
     "execution_count": 214,
     "metadata": {},
     "output_type": "execute_result"
    }
   ],
   "source": [
    "products['type'].value_counts()"
   ]
  },
  {
   "cell_type": "code",
   "execution_count": 215,
   "id": "141990ea-b043-4622-a418-569cdd10a438",
   "metadata": {},
   "outputs": [
    {
     "name": "stdout",
     "output_type": "stream",
     "text": [
      "<class 'pandas.core.frame.DataFrame'>\n",
      "RangeIndex: 19050 entries, 0 to 19049\n",
      "Data columns (total 7 columns):\n",
      " #   Column       Non-Null Count  Dtype \n",
      "---  ------       --------------  ----- \n",
      " 0   brand        19050 non-null  object\n",
      " 1   name         19050 non-null  object\n",
      " 2   type         19035 non-null  object\n",
      " 3   country      17218 non-null  object\n",
      " 4   ingridients  18731 non-null  object\n",
      " 5   features     19050 non-null  object\n",
      " 6   afterUse     17526 non-null  object\n",
      "dtypes: object(7)\n",
      "memory usage: 1.0+ MB\n"
     ]
    }
   ],
   "source": [
    "products.info()"
   ]
  },
  {
   "cell_type": "code",
   "execution_count": 216,
   "id": "334a6d05-11ce-4311-a80a-fe9a25286c3c",
   "metadata": {},
   "outputs": [
    {
     "data": {
      "text/plain": [
       "(19050, 7)"
      ]
     },
     "execution_count": 216,
     "metadata": {},
     "output_type": "execute_result"
    }
   ],
   "source": [
    "products.shape"
   ]
  },
  {
   "cell_type": "code",
   "execution_count": 217,
   "id": "4a98ccbf-e81f-4160-a5a8-4a6df485a866",
   "metadata": {},
   "outputs": [
    {
     "data": {
      "text/plain": [
       "brand             0\n",
       "name              0\n",
       "type             15\n",
       "country        1832\n",
       "ingridients     319\n",
       "features          0\n",
       "afterUse       1524\n",
       "dtype: int64"
      ]
     },
     "execution_count": 217,
     "metadata": {},
     "output_type": "execute_result"
    }
   ],
   "source": [
    "products.isnull().sum()"
   ]
  },
  {
   "cell_type": "code",
   "execution_count": 218,
   "id": "8f1f129d-1a89-42f4-aa80-e1baad82a51f",
   "metadata": {},
   "outputs": [],
   "source": [
    "products.dropna(inplace=True)"
   ]
  },
  {
   "cell_type": "code",
   "execution_count": 219,
   "id": "b054abb0-2656-4088-826e-30b925faf907",
   "metadata": {
    "scrolled": true
   },
   "outputs": [
    {
     "data": {
      "text/plain": [
       "brand          0\n",
       "name           0\n",
       "type           0\n",
       "country        0\n",
       "ingridients    0\n",
       "features       0\n",
       "afterUse       0\n",
       "dtype: int64"
      ]
     },
     "execution_count": 219,
     "metadata": {},
     "output_type": "execute_result"
    }
   ],
   "source": [
    "products.isnull().sum()"
   ]
  },
  {
   "cell_type": "code",
   "execution_count": 220,
   "id": "74a1afb1-90c0-477d-8c2e-91719baddc80",
   "metadata": {},
   "outputs": [
    {
     "data": {
      "text/plain": [
       "(15810, 7)"
      ]
     },
     "execution_count": 220,
     "metadata": {},
     "output_type": "execute_result"
    }
   ],
   "source": [
    "products.shape"
   ]
  },
  {
   "cell_type": "code",
   "execution_count": 221,
   "id": "bc7ea6d1-95d6-40d0-826e-492d88dfe269",
   "metadata": {},
   "outputs": [
    {
     "data": {
      "text/plain": [
       "type\n",
       "Serum                  1996\n",
       "General Moisturizer    1918\n",
       "Face Cleanser          1563\n",
       "Sunscreen              1187\n",
       "Bath & Body             979\n",
       "Toner                   774\n",
       "Facial Treatment        691\n",
       "Eye Moisturizer         582\n",
       "Face Makeup             577\n",
       "Exfoliator              493\n",
       "Sheet Mask              481\n",
       "Makeup Remover          478\n",
       "Wet Mask                438\n",
       "Other Haircare          379\n",
       "Lip Moisturizer         376\n",
       "Day Moisturizer         322\n",
       "Night Moisturizer       293\n",
       "Eye Makeup              288\n",
       "Shampoo                 277\n",
       "Essence                 234\n",
       "Oil                     233\n",
       "Conditioner             178\n",
       "Overnight Mask          176\n",
       "Lip Makeup              135\n",
       "Hand Care               133\n",
       "Fragrance               114\n",
       "Eye Mask                109\n",
       "Tanning                  89\n",
       "Lip Mask                 84\n",
       "Cheek Makeup             82\n",
       "Emulsion                 59\n",
       "Nail Care                58\n",
       "Makeup Applicator        22\n",
       "Tool                      9\n",
       "False Eyelash             2\n",
       "Other                     1\n",
       "Name: count, dtype: int64"
      ]
     },
     "execution_count": 221,
     "metadata": {},
     "output_type": "execute_result"
    }
   ],
   "source": [
    "products['type'].value_counts()"
   ]
  },
  {
   "cell_type": "code",
   "execution_count": 222,
   "id": "5553f1e1-54c2-404d-badb-19a6698f3623",
   "metadata": {},
   "outputs": [
    {
     "data": {
      "text/plain": [
       "7"
      ]
     },
     "execution_count": 222,
     "metadata": {},
     "output_type": "execute_result"
    }
   ],
   "source": [
    "products.duplicated().sum()"
   ]
  },
  {
   "cell_type": "code",
   "execution_count": 223,
   "id": "13cec51e-7803-4282-82c5-cf610bad48f3",
   "metadata": {},
   "outputs": [],
   "source": [
    "products.drop_duplicates(inplace=True)"
   ]
  },
  {
   "cell_type": "code",
   "execution_count": 224,
   "id": "6c88871c-cce8-4c90-a5e4-023e41dfd277",
   "metadata": {},
   "outputs": [
    {
     "data": {
      "text/plain": [
       "0"
      ]
     },
     "execution_count": 224,
     "metadata": {},
     "output_type": "execute_result"
    }
   ],
   "source": [
    "products.duplicated().sum()"
   ]
  },
  {
   "cell_type": "code",
   "execution_count": 225,
   "id": "2f92c9fd-2e2f-41c8-a257-7fc52a522009",
   "metadata": {},
   "outputs": [],
   "source": [
    "products['company']= products['brand']\n",
    "products['origin']= products['country']"
   ]
  },
  {
   "cell_type": "code",
   "execution_count": 226,
   "id": "6da55afb-4a85-4492-b236-d2c52b8be6ac",
   "metadata": {},
   "outputs": [],
   "source": [
    "products['value']=products['brand']+' '+products['name']"
   ]
  },
  {
   "cell_type": "code",
   "execution_count": 227,
   "id": "ef4c6f0b-16bb-4bb0-a124-b1adb4f88325",
   "metadata": {},
   "outputs": [],
   "source": [
    "#remove whitespaces from series\n",
    "products['brand'] = products['brand'].str.replace(\" \",\"\")\n",
    "products['type'] = products['type'].str.replace(\" \",\"\")\n",
    "products['country'] = products['country'].str.replace(\" \",\"\")\n",
    "products['ingridients'] = products['ingridients'].str.replace(\" \",\"\")\n",
    "products['features'] = products['features'].str.replace(\" \",\"\")\n",
    "products['afterUse'] = products['afterUse'].str.replace(\" \",\"\")"
   ]
  },
  {
   "cell_type": "code",
   "execution_count": 228,
   "id": "58baae89-fe30-4df3-ab94-4c6c3ae2ad9b",
   "metadata": {},
   "outputs": [
    {
     "data": {
      "text/html": [
       "<div>\n",
       "<style scoped>\n",
       "    .dataframe tbody tr th:only-of-type {\n",
       "        vertical-align: middle;\n",
       "    }\n",
       "\n",
       "    .dataframe tbody tr th {\n",
       "        vertical-align: top;\n",
       "    }\n",
       "\n",
       "    .dataframe thead th {\n",
       "        text-align: right;\n",
       "    }\n",
       "</style>\n",
       "<table border=\"1\" class=\"dataframe\">\n",
       "  <thead>\n",
       "    <tr style=\"text-align: right;\">\n",
       "      <th></th>\n",
       "      <th>brand</th>\n",
       "      <th>name</th>\n",
       "      <th>type</th>\n",
       "      <th>country</th>\n",
       "      <th>ingridients</th>\n",
       "      <th>features</th>\n",
       "      <th>afterUse</th>\n",
       "      <th>company</th>\n",
       "      <th>origin</th>\n",
       "      <th>value</th>\n",
       "    </tr>\n",
       "  </thead>\n",
       "  <tbody>\n",
       "    <tr>\n",
       "      <th>0</th>\n",
       "      <td>TheOrdinary</td>\n",
       "      <td>Glycolic Acid 7% Toning Solution</td>\n",
       "      <td>Toner</td>\n",
       "      <td>Canada</td>\n",
       "      <td>Water,GlycolicAcid,RosaDamascenaFlowerWater,Ce...</td>\n",
       "      <td>alcohol-free,silicon-free,fragrance-free,sulfa...</td>\n",
       "      <td>GoodForOilySkin,SkinTexture,ReducesLargePores,...</td>\n",
       "      <td>The Ordinary</td>\n",
       "      <td>Canada</td>\n",
       "      <td>The Ordinary Glycolic Acid 7% Toning Solution</td>\n",
       "    </tr>\n",
       "    <tr>\n",
       "      <th>1</th>\n",
       "      <td>LaRoche-Posay</td>\n",
       "      <td>Toleriane Hydrating Gentle Face Cleanser</td>\n",
       "      <td>FaceCleanser</td>\n",
       "      <td>France</td>\n",
       "      <td>Water,Glycerin,PentaerythritylTetraethylhexano...</td>\n",
       "      <td>alcohol-free,silicon-free,fragrance-free,sulfa...</td>\n",
       "      <td>GoodForOilySkin,RednessReducing,ReducesIrritat...</td>\n",
       "      <td>La Roche-Posay</td>\n",
       "      <td>France</td>\n",
       "      <td>La Roche-Posay Toleriane Hydrating Gentle Face...</td>\n",
       "    </tr>\n",
       "    <tr>\n",
       "      <th>2</th>\n",
       "      <td>TheOrdinary</td>\n",
       "      <td>Niacinamide 10% + Zinc 1%</td>\n",
       "      <td>FacialTreatment</td>\n",
       "      <td>Canada</td>\n",
       "      <td>Water,Niacinamide,PentyleneGlycol,ZincPCA,Dime...</td>\n",
       "      <td>alcohol-free,silicon-free,fragrance-free,sulfa...</td>\n",
       "      <td>GoodForOilySkin,RednessReducing,AcneFighting,B...</td>\n",
       "      <td>The Ordinary</td>\n",
       "      <td>Canada</td>\n",
       "      <td>The Ordinary Niacinamide 10% + Zinc 1%</td>\n",
       "    </tr>\n",
       "    <tr>\n",
       "      <th>3</th>\n",
       "      <td>YouthToThePeople</td>\n",
       "      <td>Superfood Antioxidant Cleanser</td>\n",
       "      <td>FaceCleanser</td>\n",
       "      <td>UnitedStates</td>\n",
       "      <td>Water,CocamidopropylHydroxysultaine,SodiumCoco...</td>\n",
       "      <td>alcohol-free,silicon-free,fragrance-free,sulfa...</td>\n",
       "      <td>RednessReducing,ReducesIrritation,SkinTexture,...</td>\n",
       "      <td>Youth To The People</td>\n",
       "      <td>United States</td>\n",
       "      <td>Youth To The People Superfood Antioxidant Clea...</td>\n",
       "    </tr>\n",
       "    <tr>\n",
       "      <th>4</th>\n",
       "      <td>COSRX</td>\n",
       "      <td>Low pH Good Morning Gel Cleanser</td>\n",
       "      <td>FaceCleanser</td>\n",
       "      <td>SouthKorea</td>\n",
       "      <td>Water,CocamidopropylBetaine,SodiumLauroylMethy...</td>\n",
       "      <td>alcohol-free,silicon-free,fragrance-free,sulfa...</td>\n",
       "      <td>GoodForOilySkin,ReducesIrritation,ReducesLarge...</td>\n",
       "      <td>COSRX</td>\n",
       "      <td>South Korea</td>\n",
       "      <td>COSRX Low pH Good Morning Gel Cleanser</td>\n",
       "    </tr>\n",
       "  </tbody>\n",
       "</table>\n",
       "</div>"
      ],
      "text/plain": [
       "              brand                                      name   \n",
       "0       TheOrdinary          Glycolic Acid 7% Toning Solution  \\\n",
       "1     LaRoche-Posay  Toleriane Hydrating Gentle Face Cleanser   \n",
       "2       TheOrdinary                Niacinamide 10% + Zinc 1%    \n",
       "3  YouthToThePeople            Superfood Antioxidant Cleanser   \n",
       "4             COSRX          Low pH Good Morning Gel Cleanser   \n",
       "\n",
       "              type       country   \n",
       "0            Toner        Canada  \\\n",
       "1     FaceCleanser        France   \n",
       "2  FacialTreatment        Canada   \n",
       "3     FaceCleanser  UnitedStates   \n",
       "4     FaceCleanser    SouthKorea   \n",
       "\n",
       "                                         ingridients   \n",
       "0  Water,GlycolicAcid,RosaDamascenaFlowerWater,Ce...  \\\n",
       "1  Water,Glycerin,PentaerythritylTetraethylhexano...   \n",
       "2  Water,Niacinamide,PentyleneGlycol,ZincPCA,Dime...   \n",
       "3  Water,CocamidopropylHydroxysultaine,SodiumCoco...   \n",
       "4  Water,CocamidopropylBetaine,SodiumLauroylMethy...   \n",
       "\n",
       "                                            features   \n",
       "0  alcohol-free,silicon-free,fragrance-free,sulfa...  \\\n",
       "1  alcohol-free,silicon-free,fragrance-free,sulfa...   \n",
       "2  alcohol-free,silicon-free,fragrance-free,sulfa...   \n",
       "3  alcohol-free,silicon-free,fragrance-free,sulfa...   \n",
       "4  alcohol-free,silicon-free,fragrance-free,sulfa...   \n",
       "\n",
       "                                            afterUse              company   \n",
       "0  GoodForOilySkin,SkinTexture,ReducesLargePores,...         The Ordinary  \\\n",
       "1  GoodForOilySkin,RednessReducing,ReducesIrritat...       La Roche-Posay   \n",
       "2  GoodForOilySkin,RednessReducing,AcneFighting,B...         The Ordinary   \n",
       "3  RednessReducing,ReducesIrritation,SkinTexture,...  Youth To The People   \n",
       "4  GoodForOilySkin,ReducesIrritation,ReducesLarge...                COSRX   \n",
       "\n",
       "          origin                                              value  \n",
       "0         Canada      The Ordinary Glycolic Acid 7% Toning Solution  \n",
       "1         France  La Roche-Posay Toleriane Hydrating Gentle Face...  \n",
       "2         Canada            The Ordinary Niacinamide 10% + Zinc 1%   \n",
       "3  United States  Youth To The People Superfood Antioxidant Clea...  \n",
       "4    South Korea             COSRX Low pH Good Morning Gel Cleanser  "
      ]
     },
     "execution_count": 228,
     "metadata": {},
     "output_type": "execute_result"
    }
   ],
   "source": [
    "products.head()"
   ]
  },
  {
   "cell_type": "code",
   "execution_count": 229,
   "id": "28b6ef89-813b-4140-b71c-733593fc291a",
   "metadata": {},
   "outputs": [],
   "source": [
    "products['tags']=products['brand']+','+products['type']+','+products['country']+','+products['ingridients']+','+products['afterUse']"
   ]
  },
  {
   "cell_type": "code",
   "execution_count": 230,
   "id": "738fa6b3-a401-4e10-ac56-5e41d4635959",
   "metadata": {
    "scrolled": true
   },
   "outputs": [
    {
     "data": {
      "text/html": [
       "<div>\n",
       "<style scoped>\n",
       "    .dataframe tbody tr th:only-of-type {\n",
       "        vertical-align: middle;\n",
       "    }\n",
       "\n",
       "    .dataframe tbody tr th {\n",
       "        vertical-align: top;\n",
       "    }\n",
       "\n",
       "    .dataframe thead th {\n",
       "        text-align: right;\n",
       "    }\n",
       "</style>\n",
       "<table border=\"1\" class=\"dataframe\">\n",
       "  <thead>\n",
       "    <tr style=\"text-align: right;\">\n",
       "      <th></th>\n",
       "      <th>brand</th>\n",
       "      <th>name</th>\n",
       "      <th>type</th>\n",
       "      <th>country</th>\n",
       "      <th>ingridients</th>\n",
       "      <th>features</th>\n",
       "      <th>afterUse</th>\n",
       "      <th>company</th>\n",
       "      <th>origin</th>\n",
       "      <th>value</th>\n",
       "      <th>tags</th>\n",
       "    </tr>\n",
       "  </thead>\n",
       "  <tbody>\n",
       "    <tr>\n",
       "      <th>0</th>\n",
       "      <td>TheOrdinary</td>\n",
       "      <td>Glycolic Acid 7% Toning Solution</td>\n",
       "      <td>Toner</td>\n",
       "      <td>Canada</td>\n",
       "      <td>Water,GlycolicAcid,RosaDamascenaFlowerWater,Ce...</td>\n",
       "      <td>alcohol-free,silicon-free,fragrance-free,sulfa...</td>\n",
       "      <td>GoodForOilySkin,SkinTexture,ReducesLargePores,...</td>\n",
       "      <td>The Ordinary</td>\n",
       "      <td>Canada</td>\n",
       "      <td>The Ordinary Glycolic Acid 7% Toning Solution</td>\n",
       "      <td>TheOrdinary,Toner,Canada,Water,GlycolicAcid,Ro...</td>\n",
       "    </tr>\n",
       "    <tr>\n",
       "      <th>1</th>\n",
       "      <td>LaRoche-Posay</td>\n",
       "      <td>Toleriane Hydrating Gentle Face Cleanser</td>\n",
       "      <td>FaceCleanser</td>\n",
       "      <td>France</td>\n",
       "      <td>Water,Glycerin,PentaerythritylTetraethylhexano...</td>\n",
       "      <td>alcohol-free,silicon-free,fragrance-free,sulfa...</td>\n",
       "      <td>GoodForOilySkin,RednessReducing,ReducesIrritat...</td>\n",
       "      <td>La Roche-Posay</td>\n",
       "      <td>France</td>\n",
       "      <td>La Roche-Posay Toleriane Hydrating Gentle Face...</td>\n",
       "      <td>LaRoche-Posay,FaceCleanser,France,Water,Glycer...</td>\n",
       "    </tr>\n",
       "    <tr>\n",
       "      <th>2</th>\n",
       "      <td>TheOrdinary</td>\n",
       "      <td>Niacinamide 10% + Zinc 1%</td>\n",
       "      <td>FacialTreatment</td>\n",
       "      <td>Canada</td>\n",
       "      <td>Water,Niacinamide,PentyleneGlycol,ZincPCA,Dime...</td>\n",
       "      <td>alcohol-free,silicon-free,fragrance-free,sulfa...</td>\n",
       "      <td>GoodForOilySkin,RednessReducing,AcneFighting,B...</td>\n",
       "      <td>The Ordinary</td>\n",
       "      <td>Canada</td>\n",
       "      <td>The Ordinary Niacinamide 10% + Zinc 1%</td>\n",
       "      <td>TheOrdinary,FacialTreatment,Canada,Water,Niaci...</td>\n",
       "    </tr>\n",
       "    <tr>\n",
       "      <th>3</th>\n",
       "      <td>YouthToThePeople</td>\n",
       "      <td>Superfood Antioxidant Cleanser</td>\n",
       "      <td>FaceCleanser</td>\n",
       "      <td>UnitedStates</td>\n",
       "      <td>Water,CocamidopropylHydroxysultaine,SodiumCoco...</td>\n",
       "      <td>alcohol-free,silicon-free,fragrance-free,sulfa...</td>\n",
       "      <td>RednessReducing,ReducesIrritation,SkinTexture,...</td>\n",
       "      <td>Youth To The People</td>\n",
       "      <td>United States</td>\n",
       "      <td>Youth To The People Superfood Antioxidant Clea...</td>\n",
       "      <td>YouthToThePeople,FaceCleanser,UnitedStates,Wat...</td>\n",
       "    </tr>\n",
       "    <tr>\n",
       "      <th>4</th>\n",
       "      <td>COSRX</td>\n",
       "      <td>Low pH Good Morning Gel Cleanser</td>\n",
       "      <td>FaceCleanser</td>\n",
       "      <td>SouthKorea</td>\n",
       "      <td>Water,CocamidopropylBetaine,SodiumLauroylMethy...</td>\n",
       "      <td>alcohol-free,silicon-free,fragrance-free,sulfa...</td>\n",
       "      <td>GoodForOilySkin,ReducesIrritation,ReducesLarge...</td>\n",
       "      <td>COSRX</td>\n",
       "      <td>South Korea</td>\n",
       "      <td>COSRX Low pH Good Morning Gel Cleanser</td>\n",
       "      <td>COSRX,FaceCleanser,SouthKorea,Water,Cocamidopr...</td>\n",
       "    </tr>\n",
       "  </tbody>\n",
       "</table>\n",
       "</div>"
      ],
      "text/plain": [
       "              brand                                      name   \n",
       "0       TheOrdinary          Glycolic Acid 7% Toning Solution  \\\n",
       "1     LaRoche-Posay  Toleriane Hydrating Gentle Face Cleanser   \n",
       "2       TheOrdinary                Niacinamide 10% + Zinc 1%    \n",
       "3  YouthToThePeople            Superfood Antioxidant Cleanser   \n",
       "4             COSRX          Low pH Good Morning Gel Cleanser   \n",
       "\n",
       "              type       country   \n",
       "0            Toner        Canada  \\\n",
       "1     FaceCleanser        France   \n",
       "2  FacialTreatment        Canada   \n",
       "3     FaceCleanser  UnitedStates   \n",
       "4     FaceCleanser    SouthKorea   \n",
       "\n",
       "                                         ingridients   \n",
       "0  Water,GlycolicAcid,RosaDamascenaFlowerWater,Ce...  \\\n",
       "1  Water,Glycerin,PentaerythritylTetraethylhexano...   \n",
       "2  Water,Niacinamide,PentyleneGlycol,ZincPCA,Dime...   \n",
       "3  Water,CocamidopropylHydroxysultaine,SodiumCoco...   \n",
       "4  Water,CocamidopropylBetaine,SodiumLauroylMethy...   \n",
       "\n",
       "                                            features   \n",
       "0  alcohol-free,silicon-free,fragrance-free,sulfa...  \\\n",
       "1  alcohol-free,silicon-free,fragrance-free,sulfa...   \n",
       "2  alcohol-free,silicon-free,fragrance-free,sulfa...   \n",
       "3  alcohol-free,silicon-free,fragrance-free,sulfa...   \n",
       "4  alcohol-free,silicon-free,fragrance-free,sulfa...   \n",
       "\n",
       "                                            afterUse              company   \n",
       "0  GoodForOilySkin,SkinTexture,ReducesLargePores,...         The Ordinary  \\\n",
       "1  GoodForOilySkin,RednessReducing,ReducesIrritat...       La Roche-Posay   \n",
       "2  GoodForOilySkin,RednessReducing,AcneFighting,B...         The Ordinary   \n",
       "3  RednessReducing,ReducesIrritation,SkinTexture,...  Youth To The People   \n",
       "4  GoodForOilySkin,ReducesIrritation,ReducesLarge...                COSRX   \n",
       "\n",
       "          origin                                              value   \n",
       "0         Canada      The Ordinary Glycolic Acid 7% Toning Solution  \\\n",
       "1         France  La Roche-Posay Toleriane Hydrating Gentle Face...   \n",
       "2         Canada            The Ordinary Niacinamide 10% + Zinc 1%    \n",
       "3  United States  Youth To The People Superfood Antioxidant Clea...   \n",
       "4    South Korea             COSRX Low pH Good Morning Gel Cleanser   \n",
       "\n",
       "                                                tags  \n",
       "0  TheOrdinary,Toner,Canada,Water,GlycolicAcid,Ro...  \n",
       "1  LaRoche-Posay,FaceCleanser,France,Water,Glycer...  \n",
       "2  TheOrdinary,FacialTreatment,Canada,Water,Niaci...  \n",
       "3  YouthToThePeople,FaceCleanser,UnitedStates,Wat...  \n",
       "4  COSRX,FaceCleanser,SouthKorea,Water,Cocamidopr...  "
      ]
     },
     "execution_count": 230,
     "metadata": {},
     "output_type": "execute_result"
    }
   ],
   "source": [
    "products.head()"
   ]
  },
  {
   "cell_type": "code",
   "execution_count": 231,
   "id": "ba55df93-9204-4f05-b565-99633be56e18",
   "metadata": {
    "scrolled": true
   },
   "outputs": [],
   "source": [
    "df = products[['name','company','origin', 'tags', 'value']]"
   ]
  },
  {
   "cell_type": "code",
   "execution_count": 232,
   "id": "ee13a437-cad0-4a54-9e6b-5969ab540d63",
   "metadata": {},
   "outputs": [],
   "source": [
    "df.rename(columns = {'name':'names'}, inplace = True)"
   ]
  },
  {
   "cell_type": "code",
   "execution_count": 233,
   "id": "b6169b42-51ff-43fb-9abe-01ab4c3d3282",
   "metadata": {},
   "outputs": [],
   "source": [
    "#good stuff https://stackoverflow.com/questions/49551336/pandas-trim-leading-trailing-white-space-in-a-dataframe\n",
    "df = df.replace(r\"^ +| +$\", r\"\", regex=True)"
   ]
  },
  {
   "cell_type": "code",
   "execution_count": 234,
   "id": "024e2c31-1eba-4b10-aabf-e2be12f15e9b",
   "metadata": {},
   "outputs": [],
   "source": [
    "df = df.head(10000)"
   ]
  },
  {
   "cell_type": "code",
   "execution_count": 235,
   "id": "5aba826b-2dba-4eda-9eed-e7b7a67e2830",
   "metadata": {},
   "outputs": [
    {
     "data": {
      "text/plain": [
       "(10000, 5)"
      ]
     },
     "execution_count": 235,
     "metadata": {},
     "output_type": "execute_result"
    }
   ],
   "source": [
    "df.shape"
   ]
  },
  {
   "cell_type": "code",
   "execution_count": 236,
   "id": "2850fd30-32a8-4fc8-9b0f-55cb96cdcac4",
   "metadata": {},
   "outputs": [
    {
     "data": {
      "text/plain": [
       "'TheOrdinary,Toner,Canada,Water,GlycolicAcid,RosaDamascenaFlowerWater,CentaureaCyanusFlowerWater,AloeBarbadensisLeafWater,Propanediol,Glycerin,Triethanolamine,AminomethylPropanol,PanaxGinsengRootExtract,TasmanniaLanceolataFruit/LeafExtract,AsparticAcid,Alanine,Glycine,Serine,Valine,Isoleucine,Proline,Threonine,Histidine,Phenylalanine,GlutamicAcid,Arginine,PCA,SodiumPCA,SodiumLactate,Fructose,Glucose,Sucrose,Urea,HexylNicotinate,Dextrin,CitricAcid,Polysorbate20,GellanGum,TrisodiumEthylenediamineDisuccinate,SodiumChloride,HexyleneGlycol,PotassiumSorbate,SodiumBenzoate,1,2-Hexanediol,CaprylylGlycol,GoodForOilySkin,SkinTexture,ReducesLargePores,Anti-Aging,DarkSpots,Brightening,Drying,AcneTrigger,Irritating,Rosacea'"
      ]
     },
     "execution_count": 236,
     "metadata": {},
     "output_type": "execute_result"
    }
   ],
   "source": [
    "df['tags'][0]"
   ]
  },
  {
   "cell_type": "code",
   "execution_count": 237,
   "id": "deb08e5e-6fcf-4a13-8d6a-48e6cc547acb",
   "metadata": {},
   "outputs": [],
   "source": [
    "#from sklearn.feature_extraction.text import CountVectorizer\n",
    "#cv = CountVectorizer(max_features=2000, stop_words = 'english')"
   ]
  },
  {
   "cell_type": "code",
   "execution_count": 238,
   "id": "b37d8799-0090-4244-95de-979c0f6dcd63",
   "metadata": {},
   "outputs": [],
   "source": [
    "#vectors = cv.fit_transform(df['tags']).toarray()"
   ]
  },
  {
   "cell_type": "code",
   "execution_count": 239,
   "id": "6766bfd1-c6e6-4cca-a3e2-0b23f4336fa6",
   "metadata": {},
   "outputs": [],
   "source": [
    "#vectors[100]"
   ]
  },
  {
   "cell_type": "code",
   "execution_count": 240,
   "id": "0df228b0-b5b8-4fbd-bb9b-abf9b1cb039d",
   "metadata": {},
   "outputs": [],
   "source": [
    "#cv.get_feature_names_out()"
   ]
  },
  {
   "cell_type": "code",
   "execution_count": 241,
   "id": "cc0a3b59-1d12-4d11-add5-2eb6cb5f8c57",
   "metadata": {},
   "outputs": [],
   "source": [
    "import nltk"
   ]
  },
  {
   "cell_type": "code",
   "execution_count": 242,
   "id": "7cbacf92-8b96-4f00-b650-02d46cb5b594",
   "metadata": {},
   "outputs": [],
   "source": [
    "from nltk.stem.porter import PorterStemmer\n",
    "ps = PorterStemmer()"
   ]
  },
  {
   "cell_type": "code",
   "execution_count": 243,
   "id": "c91b0095-0394-4a75-a9f8-b9c337e9dcc8",
   "metadata": {},
   "outputs": [],
   "source": [
    "def stem(text):\n",
    "    y = []\n",
    "    for i in text.split():\n",
    "        y.append(ps.stem(i))\n",
    "        \n",
    "    #convert list to string\n",
    "    return \" \".join(y)"
   ]
  },
  {
   "cell_type": "code",
   "execution_count": 244,
   "id": "0e1ecbd0-347e-4568-b684-f5ad660191e4",
   "metadata": {},
   "outputs": [],
   "source": [
    "df['tags']= df['tags'].apply(stem)"
   ]
  },
  {
   "cell_type": "code",
   "execution_count": 245,
   "id": "d982c655-91de-47f0-9699-450514e589be",
   "metadata": {},
   "outputs": [],
   "source": [
    "from sklearn.feature_extraction.text import CountVectorizer\n",
    "cv = CountVectorizer(max_features=2000, stop_words = 'english')"
   ]
  },
  {
   "cell_type": "code",
   "execution_count": 246,
   "id": "3738da8e-fa24-4d6d-b0ef-d3f8af4ab01a",
   "metadata": {},
   "outputs": [],
   "source": [
    "vectors = cv.fit_transform(df['tags']).toarray()"
   ]
  },
  {
   "cell_type": "code",
   "execution_count": 247,
   "id": "92317c93-d325-4fde-bab8-5edc091284f6",
   "metadata": {},
   "outputs": [
    {
     "data": {
      "text/plain": [
       "array(['10', '100', '100stearate', ..., 'zingiberofficinalerootextract',\n",
       "       'zingiberofficinalerootoil', 'ziziphusjujubaseedextract'],\n",
       "      dtype=object)"
      ]
     },
     "execution_count": 247,
     "metadata": {},
     "output_type": "execute_result"
    }
   ],
   "source": [
    "cv.get_feature_names_out()"
   ]
  },
  {
   "cell_type": "code",
   "execution_count": 248,
   "id": "275c0b6b-9f58-4719-99cb-52468eec25ca",
   "metadata": {},
   "outputs": [],
   "source": [
    "from sklearn.metrics.pairwise import cosine_similarity"
   ]
  },
  {
   "cell_type": "code",
   "execution_count": 249,
   "id": "f82a5847-f6d6-4175-973d-5dca5ec83a2a",
   "metadata": {
    "scrolled": true
   },
   "outputs": [],
   "source": [
    "similarity = cosine_similarity(vectors)"
   ]
  },
  {
   "cell_type": "code",
   "execution_count": 250,
   "id": "85f8e4a0-9268-4015-ac92-66d5383d6053",
   "metadata": {},
   "outputs": [
    {
     "data": {
      "text/plain": [
       "array([1.        , 0.22742941, 0.12487811, ..., 0.22880216, 0.26194176,\n",
       "       0.12844577])"
      ]
     },
     "execution_count": 250,
     "metadata": {},
     "output_type": "execute_result"
    }
   ],
   "source": [
    "similarity[0]"
   ]
  },
  {
   "cell_type": "code",
   "execution_count": 251,
   "id": "34711d8b-1ebb-44f8-a819-b01440168d57",
   "metadata": {},
   "outputs": [
    {
     "data": {
      "text/plain": [
       "10000"
      ]
     },
     "execution_count": 251,
     "metadata": {},
     "output_type": "execute_result"
    }
   ],
   "source": [
    "len(similarity)"
   ]
  },
  {
   "cell_type": "code",
   "execution_count": 252,
   "id": "f6ada628-3d11-4eb7-a3d8-66036259f64b",
   "metadata": {},
   "outputs": [],
   "source": [
    "#list(enumerate(similarity[0]))"
   ]
  },
  {
   "cell_type": "code",
   "execution_count": 253,
   "id": "df796158-99ce-4347-a705-bb32b9d09832",
   "metadata": {},
   "outputs": [
    {
     "data": {
      "text/plain": [
       "[(6790, 0.6085806194501846),\n",
       " (8, 0.5846434037980073),\n",
       " (7854, 0.5401276624446222),\n",
       " (6884, 0.519269537883926),\n",
       " (2839, 0.5145529756640852)]"
      ]
     },
     "execution_count": 253,
     "metadata": {},
     "output_type": "execute_result"
    }
   ],
   "source": [
    "sorted(list(enumerate(similarity[0])), reverse=True, key=lambda x:x[1])[1:6]"
   ]
  },
  {
   "cell_type": "code",
   "execution_count": 254,
   "id": "405b6191-5acf-486d-aad8-d5d67351e3c0",
   "metadata": {},
   "outputs": [],
   "source": [
    "recommender=[]\n",
    "for i in range(len(similarity)):\n",
    "    recommender.append(sorted(list(enumerate(similarity[i])), reverse=True, key=lambda x:x[1])[1:6])"
   ]
  },
  {
   "cell_type": "code",
   "execution_count": 255,
   "id": "c775401d-9571-4437-a8c7-4c71eae8cd96",
   "metadata": {},
   "outputs": [],
   "source": [
    "#recommender"
   ]
  },
  {
   "cell_type": "code",
   "execution_count": 256,
   "id": "98627cc8-0e79-4514-ad4d-84a4115d954d",
   "metadata": {},
   "outputs": [
    {
     "data": {
      "text/plain": [
       "(10000,)"
      ]
     },
     "execution_count": 256,
     "metadata": {},
     "output_type": "execute_result"
    }
   ],
   "source": [
    "similarity[4].shape"
   ]
  },
  {
   "cell_type": "code",
   "execution_count": 257,
   "id": "8e050867-c9b4-4357-b733-2524ea8e24ee",
   "metadata": {},
   "outputs": [],
   "source": [
    "def recommend(product):\n",
    "    product_index = df[df['names']== product].index[0]\n",
    "    distances = similarity[product_index]\n",
    "    product_list = sorted(list(enumerate(distances)), reverse=True, key=lambda x:x[1])[1:6]\n",
    "    \n",
    "    for i in product_list:\n",
    "        print(df.iloc[i[0]].names)"
   ]
  },
  {
   "cell_type": "code",
   "execution_count": 258,
   "id": "72dc7ad7-42c3-4d97-9999-9801c6d7b398",
   "metadata": {
    "scrolled": true
   },
   "outputs": [
    {
     "name": "stdout",
     "output_type": "stream",
     "text": [
      "MiShot: Photoprotection - Shield Serum with Vitamin B3\n",
      "Azelaic Acid Suspension 10%\n",
      "Hyaluronic Acid 2% + B5\n",
      "Restore Facial Serum\n",
      "Milk Essence Shampoo Treatment\n"
     ]
    }
   ],
   "source": [
    "recommend('Niacinamide 10% + Zinc 1%')"
   ]
  },
  {
   "cell_type": "code",
   "execution_count": 259,
   "id": "73afb37e-e7f0-438c-b1e5-6c01bd50d60e",
   "metadata": {},
   "outputs": [],
   "source": [
    "import pickle"
   ]
  },
  {
   "cell_type": "code",
   "execution_count": 260,
   "id": "99271b11-bb5e-4a59-baa9-32d7e22bc062",
   "metadata": {},
   "outputs": [],
   "source": [
    "pickle.dump(df.to_dict(), open('product_dict.pkl','wb'))"
   ]
  },
  {
   "cell_type": "code",
   "execution_count": 261,
   "id": "af47d2db-2045-4e4d-b502-36b98aa5a78c",
   "metadata": {},
   "outputs": [],
   "source": [
    "pickle.dump(recommender, open('recommend.pkl', 'wb'))"
   ]
  },
  {
   "cell_type": "code",
   "execution_count": null,
   "id": "68cd114d-312a-4c2c-a0db-d26f2bf6a89e",
   "metadata": {},
   "outputs": [],
   "source": []
  },
  {
   "cell_type": "code",
   "execution_count": null,
   "id": "04c4cef0-81bb-4307-b104-0ed503ccf9a3",
   "metadata": {},
   "outputs": [],
   "source": []
  },
  {
   "cell_type": "code",
   "execution_count": null,
   "id": "9578ce54-d28a-4af6-9b1d-b1e5817f9ac8",
   "metadata": {},
   "outputs": [],
   "source": []
  },
  {
   "cell_type": "code",
   "execution_count": null,
   "id": "940be5dd-94e4-416f-a1bf-92630cad9587",
   "metadata": {},
   "outputs": [],
   "source": []
  },
  {
   "cell_type": "code",
   "execution_count": null,
   "id": "ca158b3b-3b62-492a-b428-8b61b336f71c",
   "metadata": {},
   "outputs": [],
   "source": []
  },
  {
   "cell_type": "code",
   "execution_count": null,
   "id": "627d104d-2bcf-4459-aedc-f71e0a6d654a",
   "metadata": {},
   "outputs": [],
   "source": []
  },
  {
   "cell_type": "code",
   "execution_count": null,
   "id": "cac0e187-84c8-421a-aab2-b3b6792f5100",
   "metadata": {},
   "outputs": [],
   "source": []
  },
  {
   "cell_type": "code",
   "execution_count": null,
   "id": "b6cea54d-d3d2-4b99-9a41-81bc5721be15",
   "metadata": {},
   "outputs": [],
   "source": []
  },
  {
   "cell_type": "code",
   "execution_count": null,
   "id": "9b05a4b6-275c-4f5a-ac99-0a8b6010f2f8",
   "metadata": {},
   "outputs": [],
   "source": []
  },
  {
   "cell_type": "code",
   "execution_count": null,
   "id": "82d01e2b-5b32-4f5f-854e-ec9debe2d5d2",
   "metadata": {},
   "outputs": [],
   "source": []
  }
 ],
 "metadata": {
  "kernelspec": {
   "display_name": "Python 3 (ipykernel)",
   "language": "python",
   "name": "python3"
  },
  "language_info": {
   "codemirror_mode": {
    "name": "ipython",
    "version": 3
   },
   "file_extension": ".py",
   "mimetype": "text/x-python",
   "name": "python",
   "nbconvert_exporter": "python",
   "pygments_lexer": "ipython3",
   "version": "3.11.3"
  }
 },
 "nbformat": 4,
 "nbformat_minor": 5
}
